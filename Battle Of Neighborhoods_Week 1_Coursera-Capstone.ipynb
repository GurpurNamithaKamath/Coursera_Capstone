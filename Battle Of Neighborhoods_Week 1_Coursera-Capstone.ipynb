{
    "nbformat_minor": 1, 
    "cells": [
        {
            "source": "# Battle Of Neighborhoods\n\n## Introduction/Business Problem", 
            "cell_type": "markdown", 
            "metadata": {
                "collapsed": true
            }
        }, 
        {
            "source": "### The Background:\n\nThe City of New York also populary known as NYC is one of the most populated city in The United States. It is also known as the financial, media and cultural capital of the world. The city has beautiful sky scraping buildings as well as known for many tourist places. It is a land of opportunities at the same time extremely competitive and fast paced.  NYC is also known for its cultural diversity as it is the leading gateway for immigrant population. Manhattan's pouplation density is the highest of any county in the United States.The city is basically made up of five boroughs namely - Brooklyn, Queens, The Bronx, Manhattan and Staten Island.\n\nManhattan is the place where one can find the city's top attractions like Empire State building, Central Park, Central Park, The Chrysler Building and many more. It is the most densely populated boroughs of all the five. It is home to the world's largest two stock exchanges - The NASDAQ and New York Stock Exchange.  \n\nAs we can understand from the backdrop of the city, it is not just a tourist spot but also highly competitive. Since it is a financial hub and also has top attractions for people to visit, it is but natural that the not just the cost of living but also the cost of a starting a business is extremely high. As I analyze the data and draw insights, the conclusion may lead to reduction of risk and give more returns to my client when they start their restaurant in Manhattan.", 
            "cell_type": "markdown", 
            "metadata": {}
        }, 
        {
            "source": "### Decription of the Problem:\nRestauarnt business is something where an entrepreneur makes lot of sacrificies, experiences certain amount of losses in the beginning but as the business picks up because of words of mouth of its customers and also better marketing strategy the owner finally ends up making profits. But before all this, the choice of place where he/she can start the business is also very important. Location is something where one should be able to draw crowds, be easily accessible and also have potential for growth.\n\nAs already described the population of Manhattan is diverse and includes people from all ethnicities like Asians, Jewish, Spanish, Brazilian, South Asians where Indian Population is the highest followed by Bangaladeshis and Pakistanis and many other countries as well. Therefore, it is important to study the cuisine, the demographics etc of the place.\n\nMy client a hotelier who has run successful Indian restauarants in  places like Mumbai, Delhi, Bangalore now wants to explore the market of Manhattan. He wants to go international by opening his first of restauarant business in this densely populated and most competitive market of Manhattan,NYC. His belief lies in his menu, the secret ingredients of the food, brand, marketing and most imortantly his desire to  see the customer happy and satisfied so that they return again. \n\nYes all the above aspects are important but I feel that location is the boss for any business especially restaurants. Since I have been assigned the duty of analyzing the location now it is upon me to offer a good suggestion to my client.", 
            "cell_type": "markdown", 
            "metadata": {}
        }, 
        {
            "source": "### Objective:\n\nThe main objective of this data science project is to analyze as to whether Manhattan as a location for  an Indian restauarant is feasible or not as my client wants to open his restaurant 'The Foodies' right here. I hope to provide proper rationale for him with my data analysis.", 
            "cell_type": "markdown", 
            "metadata": {}
        }, 
        {
            "source": "", 
            "cell_type": "markdown", 
            "metadata": {}
        }
    ], 
    "metadata": {
        "kernelspec": {
            "display_name": "Python 3.5", 
            "name": "python3", 
            "language": "python"
        }, 
        "language_info": {
            "mimetype": "text/x-python", 
            "nbconvert_exporter": "python", 
            "version": "3.5.5", 
            "name": "python", 
            "pygments_lexer": "ipython3", 
            "file_extension": ".py", 
            "codemirror_mode": {
                "version": 3, 
                "name": "ipython"
            }
        }
    }, 
    "nbformat": 4
}