{
    "nbformat_minor": 1, 
    "cells": [
        {
            "source": "### Data for this Project:\nData Science is the field of exploring, manipulating and analyzing data and then using this data to answer any questions or make recommendations.Data is the key ingredient for the prepartion of a recipe called data analysis. In this project, the data of New York City will used. Further the data will be used to analyze the Borough Manhattan and it's various neighborhoods. The segmentation of the neighborhoods of the borough Manhattan will be done later. From the neighborhoods there will be segmentation of venues.", 
            "cell_type": "markdown", 
            "metadata": {}
        }, 
        {
            "source": "## Source of the Data:\nThe data is sourced from the following link:https://geo.nyu.edu/catalog/nyu_2451_34572\nThe dataframe has 5 boroughs and 306 neighborhoods. Later this data will be converted to a csv file for further analysis.\nAlso Foursqaure API is used here for gathering the data relating to nearby venues, restaurants in the borough by leveraging on the geographical coordinates of Manhattan.All the Necessary images, plots have been uploaded in the report along with the analysis of the same.", 
            "cell_type": "markdown", 
            "metadata": {}
        }, 
        {
            "source": "![](images/image.PNG)", 
            "cell_type": "markdown", 
            "metadata": {}
        }, 
        {
            "source": "", 
            "cell_type": "code", 
            "metadata": {}, 
            "outputs": [], 
            "execution_count": null
        }
    ], 
    "metadata": {
        "kernelspec": {
            "display_name": "Python 3.5", 
            "name": "python3", 
            "language": "python"
        }, 
        "language_info": {
            "mimetype": "text/x-python", 
            "nbconvert_exporter": "python", 
            "version": "3.5.5", 
            "name": "python", 
            "file_extension": ".py", 
            "pygments_lexer": "ipython3", 
            "codemirror_mode": {
                "version": 3, 
                "name": "ipython"
            }
        }
    }, 
    "nbformat": 4
}